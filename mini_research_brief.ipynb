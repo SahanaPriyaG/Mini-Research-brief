{
  "nbformat": 4,
  "nbformat_minor": 0,
  "metadata": {
    "colab": {
      "provenance": []
    },
    "kernelspec": {
      "name": "python3",
      "display_name": "Python 3"
    },
    "language_info": {
      "name": "python"
    }
  },
  "cells": [
    {
      "cell_type": "code",
      "execution_count": null,
      "metadata": {
        "id": "nDVm9sDMxbWQ"
      },
      "outputs": [],
      "source": [
        "!pip -q install -U langchain langchain-google-genai pydantic python-dotenv"
      ]
    },
    {
      "cell_type": "code",
      "source": [
        "from google.colab import files\n",
        "uploaded = files.upload()"
      ],
      "metadata": {
        "colab": {
          "base_uri": "https://localhost:8080/",
          "height": 72
        },
        "id": "6x_iDI0tx5xx",
        "outputId": "2f99ddd6-a5f7-4c13-97a6-016a7e972d31"
      },
      "execution_count": null,
      "outputs": [
        {
          "output_type": "display_data",
          "data": {
            "text/plain": [
              "<IPython.core.display.HTML object>"
            ],
            "text/html": [
              "\n",
              "     <input type=\"file\" id=\"files-1a79270c-7a16-477c-bd02-2c9cfe002903\" name=\"files[]\" multiple disabled\n",
              "        style=\"border:none\" />\n",
              "     <output id=\"result-1a79270c-7a16-477c-bd02-2c9cfe002903\">\n",
              "      Upload widget is only available when the cell has been executed in the\n",
              "      current browser session. Please rerun this cell to enable.\n",
              "      </output>\n",
              "      <script>// Copyright 2017 Google LLC\n",
              "//\n",
              "// Licensed under the Apache License, Version 2.0 (the \"License\");\n",
              "// you may not use this file except in compliance with the License.\n",
              "// You may obtain a copy of the License at\n",
              "//\n",
              "//      http://www.apache.org/licenses/LICENSE-2.0\n",
              "//\n",
              "// Unless required by applicable law or agreed to in writing, software\n",
              "// distributed under the License is distributed on an \"AS IS\" BASIS,\n",
              "// WITHOUT WARRANTIES OR CONDITIONS OF ANY KIND, either express or implied.\n",
              "// See the License for the specific language governing permissions and\n",
              "// limitations under the License.\n",
              "\n",
              "/**\n",
              " * @fileoverview Helpers for google.colab Python module.\n",
              " */\n",
              "(function(scope) {\n",
              "function span(text, styleAttributes = {}) {\n",
              "  const element = document.createElement('span');\n",
              "  element.textContent = text;\n",
              "  for (const key of Object.keys(styleAttributes)) {\n",
              "    element.style[key] = styleAttributes[key];\n",
              "  }\n",
              "  return element;\n",
              "}\n",
              "\n",
              "// Max number of bytes which will be uploaded at a time.\n",
              "const MAX_PAYLOAD_SIZE = 100 * 1024;\n",
              "\n",
              "function _uploadFiles(inputId, outputId) {\n",
              "  const steps = uploadFilesStep(inputId, outputId);\n",
              "  const outputElement = document.getElementById(outputId);\n",
              "  // Cache steps on the outputElement to make it available for the next call\n",
              "  // to uploadFilesContinue from Python.\n",
              "  outputElement.steps = steps;\n",
              "\n",
              "  return _uploadFilesContinue(outputId);\n",
              "}\n",
              "\n",
              "// This is roughly an async generator (not supported in the browser yet),\n",
              "// where there are multiple asynchronous steps and the Python side is going\n",
              "// to poll for completion of each step.\n",
              "// This uses a Promise to block the python side on completion of each step,\n",
              "// then passes the result of the previous step as the input to the next step.\n",
              "function _uploadFilesContinue(outputId) {\n",
              "  const outputElement = document.getElementById(outputId);\n",
              "  const steps = outputElement.steps;\n",
              "\n",
              "  const next = steps.next(outputElement.lastPromiseValue);\n",
              "  return Promise.resolve(next.value.promise).then((value) => {\n",
              "    // Cache the last promise value to make it available to the next\n",
              "    // step of the generator.\n",
              "    outputElement.lastPromiseValue = value;\n",
              "    return next.value.response;\n",
              "  });\n",
              "}\n",
              "\n",
              "/**\n",
              " * Generator function which is called between each async step of the upload\n",
              " * process.\n",
              " * @param {string} inputId Element ID of the input file picker element.\n",
              " * @param {string} outputId Element ID of the output display.\n",
              " * @return {!Iterable<!Object>} Iterable of next steps.\n",
              " */\n",
              "function* uploadFilesStep(inputId, outputId) {\n",
              "  const inputElement = document.getElementById(inputId);\n",
              "  inputElement.disabled = false;\n",
              "\n",
              "  const outputElement = document.getElementById(outputId);\n",
              "  outputElement.innerHTML = '';\n",
              "\n",
              "  const pickedPromise = new Promise((resolve) => {\n",
              "    inputElement.addEventListener('change', (e) => {\n",
              "      resolve(e.target.files);\n",
              "    });\n",
              "  });\n",
              "\n",
              "  const cancel = document.createElement('button');\n",
              "  inputElement.parentElement.appendChild(cancel);\n",
              "  cancel.textContent = 'Cancel upload';\n",
              "  const cancelPromise = new Promise((resolve) => {\n",
              "    cancel.onclick = () => {\n",
              "      resolve(null);\n",
              "    };\n",
              "  });\n",
              "\n",
              "  // Wait for the user to pick the files.\n",
              "  const files = yield {\n",
              "    promise: Promise.race([pickedPromise, cancelPromise]),\n",
              "    response: {\n",
              "      action: 'starting',\n",
              "    }\n",
              "  };\n",
              "\n",
              "  cancel.remove();\n",
              "\n",
              "  // Disable the input element since further picks are not allowed.\n",
              "  inputElement.disabled = true;\n",
              "\n",
              "  if (!files) {\n",
              "    return {\n",
              "      response: {\n",
              "        action: 'complete',\n",
              "      }\n",
              "    };\n",
              "  }\n",
              "\n",
              "  for (const file of files) {\n",
              "    const li = document.createElement('li');\n",
              "    li.append(span(file.name, {fontWeight: 'bold'}));\n",
              "    li.append(span(\n",
              "        `(${file.type || 'n/a'}) - ${file.size} bytes, ` +\n",
              "        `last modified: ${\n",
              "            file.lastModifiedDate ? file.lastModifiedDate.toLocaleDateString() :\n",
              "                                    'n/a'} - `));\n",
              "    const percent = span('0% done');\n",
              "    li.appendChild(percent);\n",
              "\n",
              "    outputElement.appendChild(li);\n",
              "\n",
              "    const fileDataPromise = new Promise((resolve) => {\n",
              "      const reader = new FileReader();\n",
              "      reader.onload = (e) => {\n",
              "        resolve(e.target.result);\n",
              "      };\n",
              "      reader.readAsArrayBuffer(file);\n",
              "    });\n",
              "    // Wait for the data to be ready.\n",
              "    let fileData = yield {\n",
              "      promise: fileDataPromise,\n",
              "      response: {\n",
              "        action: 'continue',\n",
              "      }\n",
              "    };\n",
              "\n",
              "    // Use a chunked sending to avoid message size limits. See b/62115660.\n",
              "    let position = 0;\n",
              "    do {\n",
              "      const length = Math.min(fileData.byteLength - position, MAX_PAYLOAD_SIZE);\n",
              "      const chunk = new Uint8Array(fileData, position, length);\n",
              "      position += length;\n",
              "\n",
              "      const base64 = btoa(String.fromCharCode.apply(null, chunk));\n",
              "      yield {\n",
              "        response: {\n",
              "          action: 'append',\n",
              "          file: file.name,\n",
              "          data: base64,\n",
              "        },\n",
              "      };\n",
              "\n",
              "      let percentDone = fileData.byteLength === 0 ?\n",
              "          100 :\n",
              "          Math.round((position / fileData.byteLength) * 100);\n",
              "      percent.textContent = `${percentDone}% done`;\n",
              "\n",
              "    } while (position < fileData.byteLength);\n",
              "  }\n",
              "\n",
              "  // All done.\n",
              "  yield {\n",
              "    response: {\n",
              "      action: 'complete',\n",
              "    }\n",
              "  };\n",
              "}\n",
              "\n",
              "scope.google = scope.google || {};\n",
              "scope.google.colab = scope.google.colab || {};\n",
              "scope.google.colab._files = {\n",
              "  _uploadFiles,\n",
              "  _uploadFilesContinue,\n",
              "};\n",
              "})(self);\n",
              "</script> "
            ]
          },
          "metadata": {}
        },
        {
          "output_type": "stream",
          "name": "stdout",
          "text": [
            "Saving .env to .env\n"
          ]
        }
      ]
    },
    {
      "cell_type": "code",
      "source": [
        "!ls -la"
      ],
      "metadata": {
        "colab": {
          "base_uri": "https://localhost:8080/"
        },
        "id": "kPZ0L7rWyEM1",
        "outputId": "04ed071a-1c90-4cd3-b2d1-321e26b1eede"
      },
      "execution_count": null,
      "outputs": [
        {
          "output_type": "stream",
          "name": "stdout",
          "text": [
            "total 24\n",
            "drwxr-xr-x 1 root root 4096 Aug 25 11:26 .\n",
            "drwxr-xr-x 1 root root 4096 Aug 25 10:19 ..\n",
            "drwxr-xr-x 4 root root 4096 Aug 21 13:40 .config\n",
            "-rw-r--r-- 1 root root   54 Aug 25 11:26 .env\n",
            "drwxr-xr-x 3 root root 4096 Aug 25 11:10 mini_research_brief\n",
            "drwxr-xr-x 1 root root 4096 Aug 21 13:41 sample_data\n"
          ]
        }
      ]
    },
    {
      "cell_type": "code",
      "source": [
        "from dotenv import load_dotenv, find_dotenv\n",
        "import os\n",
        "\n",
        "load_dotenv(find_dotenv())\n",
        "\n",
        "key = os.getenv(\"GOOGLE_API_KEY\")\n",
        "print(\"API Key loaded?\", bool(key))\n",
        "print(\"Key prefix:\", (key[:6] + \"…\") if key else None)"
      ],
      "metadata": {
        "colab": {
          "base_uri": "https://localhost:8080/"
        },
        "id": "b-mUsAcQyJWC",
        "outputId": "d93a8bb5-6c63-4cfa-d16b-a387e2c95d04"
      },
      "execution_count": null,
      "outputs": [
        {
          "output_type": "stream",
          "name": "stdout",
          "text": [
            "API Key loaded? True\n",
            "Key prefix: AIzaSy…\n"
          ]
        }
      ]
    },
    {
      "cell_type": "code",
      "source": [
        "import sys\n",
        "from typing import List\n",
        "from pydantic import BaseModel, ValidationError, field_validator\n",
        "from langchain_core.output_parsers import PydanticOutputParser\n",
        "from langchain_core.prompts import ChatPromptTemplate\n",
        "from langchain_google_genai import ChatGoogleGenerativeAI\n",
        "\n",
        "class ResearchBrief(BaseModel):\n",
        "    title: str\n",
        "    problem_statement: str\n",
        "    key_questions: List[str]\n",
        "    method_brief: List[str]\n",
        "    deliverables: List[str]\n",
        "\n",
        "    @field_validator(\"problem_statement\")\n",
        "    @classmethod\n",
        "    def max_two_sentences(cls, v: str) -> str:\n",
        "        count = sum(v.count(ch) for ch in \".!?\")\n",
        "        if count > 2:\n",
        "            raise ValueError(\"problem_statement must be <= 2 sentences\")\n",
        "        return v.strip()\n",
        "\n",
        "    @field_validator(\"key_questions\")\n",
        "    @classmethod\n",
        "    def q_len(cls, v: List[str]) -> List[str]:\n",
        "        if not (1 <= len(v) <= 3):\n",
        "            raise ValueError(\"key_questions must have 1–3 items\")\n",
        "        return [s.strip() for s in v]\n",
        "\n",
        "    @field_validator(\"method_brief\")\n",
        "    @classmethod\n",
        "    def m_len(cls, v: List[str]) -> List[str]:\n",
        "        if not (2 <= len(v) <= 4):\n",
        "            raise ValueError(\"method_brief must have 2–4 items\")\n",
        "        return [s.strip() for s in v]\n",
        "\n",
        "    @field_validator(\"deliverables\")\n",
        "    @classmethod\n",
        "    def d_len(cls, v: List[str]) -> List[str]:\n",
        "        if not (2 <= len(v) <= 3):\n",
        "            raise ValueError(\"deliverables must have 2–3 items\")\n",
        "        return [s.strip() for s in v]\n"
      ],
      "metadata": {
        "id": "kBgI4gyUI4DQ"
      },
      "execution_count": null,
      "outputs": []
    },
    {
      "cell_type": "code",
      "source": [
        "def require_api_key():\n",
        "    if not os.getenv(\"GOOGLE_API_KEY\"):\n",
        "        raise RuntimeError(\n",
        "            \"Missing GOOGLE_API_KEY. Set it using:\\n\"\n",
        "            \"os.environ['GOOGLE_API_KEY'] = 'your_key_here'\"\n",
        "        )\n",
        "\n",
        "def build_chain():\n",
        "    parser = PydanticOutputParser(pydantic_object=ResearchBrief)\n",
        "\n",
        "    system_rules = (\n",
        "        \"You write ultra-concise, practical research briefs.\\n\"\n",
        "        \"Return ONLY JSON that matches this schema:\\n{format_instructions}\\n\"\n",
        "        \"Rules:\\n\"\n",
        "        \"- Keep 'problem_statement' to <= 2 sentences.\\n\"\n",
        "        \"- 'key_questions' has 1–3 items.\\n\"\n",
        "        \"- 'method_brief' has 2–4 items.\\n\"\n",
        "        \"- 'deliverables' has 2–3 items.\\n\"\n",
        "        \"No markdown, no extra keys, no commentary.\"\n",
        "    )\n",
        "\n",
        "    prompt = (\n",
        "        ChatPromptTemplate\n",
        "        .from_messages([\n",
        "            (\"system\", system_rules),\n",
        "            (\"human\", \"Topic: {topic}\")\n",
        "        ])\n",
        "        .partial(format_instructions=parser.get_format_instructions())\n",
        "    )\n",
        "\n",
        "    model = ChatGoogleGenerativeAI(\n",
        "        model=\"gemini-1.5-flash\",\n",
        "        temperature=0,\n",
        "        max_retries=2,\n",
        "    )\n",
        "\n",
        "    return prompt | model | parser\n",
        "\n",
        "def to_markdown(brief: ResearchBrief) -> str:\n",
        "    lines = []\n",
        "    lines.append(f\"# {brief.title}\")\n",
        "    lines.append(f\"**Problem:** {brief.problem_statement}\")\n",
        "    lines.append(\"**Key Questions:**\")\n",
        "    lines.extend(f\"- {q}\" for q in brief.key_questions)\n",
        "    lines.append(\"**Method (brief):**\")\n",
        "    lines.extend(f\"- {m}\" for m in brief.method_brief)\n",
        "    lines.append(\"**Deliverables:**\")\n",
        "    lines.extend(f\"- {d}\" for d in brief.deliverables)\n",
        "    return \"\\n\".join(lines)\n"
      ],
      "metadata": {
        "id": "OtEo5GPPJCIc"
      },
      "execution_count": null,
      "outputs": []
    },
    {
      "cell_type": "code",
      "source": [
        "require_api_key()\n",
        "topic = input(\"Enter a research topic: \").strip()\n",
        "\n",
        "if not topic:\n",
        "    print(\"ERROR: Topic cannot be empty.\", file=sys.stderr)\n",
        "else:\n",
        "    try:\n",
        "        chain = build_chain()\n",
        "        brief: ResearchBrief = chain.invoke({\"topic\": topic})\n",
        "\n",
        "        print(\"\\n JSON Output:\")\n",
        "        print(brief.model_dump_json(indent=2, ensure_ascii=False))\n",
        "\n",
        "    except ValidationError as ve:\n",
        "        print(\"ERROR: Model returned invalid JSON.\", file=sys.stderr)\n",
        "        print(ve, file=sys.stderr)\n",
        "    except Exception as e:\n",
        "        print(f\"ERROR: {e}\", file=sys.stderr)\n"
      ],
      "metadata": {
        "colab": {
          "base_uri": "https://localhost:8080/"
        },
        "id": "ggxHTJCEJJDd",
        "outputId": "d4bba8b7-4e8f-4208-cb4f-e5d0c62869bf"
      },
      "execution_count": null,
      "outputs": [
        {
          "output_type": "stream",
          "name": "stdout",
          "text": [
            "Enter a research topic: impact of cat on human\n",
            "\n",
            " JSON Output:\n"
          ]
        },
        {
          "output_type": "stream",
          "name": "stderr",
          "text": [
            "ERROR: BaseModel.model_dump_json() got an unexpected keyword argument 'ensure_ascii'\n"
          ]
        }
      ]
    },
    {
      "cell_type": "code",
      "source": [
        "import json\n",
        "\n",
        "result = chain.invoke({\"topic\": topic})\n",
        "\n",
        "# JSON Output\n",
        "json_output = json.dumps(result.model_dump(), indent=2, ensure_ascii=False)\n",
        "print(\"JSON Output:\")\n",
        "print(json_output)\n",
        "\n",
        "# Markdown Output\n",
        "md_output = to_markdown(result)\n",
        "\n",
        "print(\"\\nMarkdown Output:\")\n",
        "print(md_output)"
      ],
      "metadata": {
        "colab": {
          "base_uri": "https://localhost:8080/"
        },
        "id": "ChF8C4wYP0_b",
        "outputId": "3e8fe7cd-2d00-40f2-9267-fe00c145ad74"
      },
      "execution_count": null,
      "outputs": [
        {
          "output_type": "stream",
          "name": "stdout",
          "text": [
            "JSON Output:\n",
            "{\n",
            "  \"title\": \"Impact of Cat Ownership on Human Well-being\",\n",
            "  \"problem_statement\": \"Limited research exists on the comprehensive effects of cat ownership on human health.  This study will investigate the multifaceted impact of cat companionship on various aspects of human well-being.\",\n",
            "  \"key_questions\": [\n",
            "    \"How does cat ownership affect human mental health?\",\n",
            "    \"What is the correlation between cat ownership and cardiovascular health?\",\n",
            "    \"Does cat ownership influence social interaction and loneliness?\"\n",
            "  ],\n",
            "  \"method_brief\": [\n",
            "    \"Conduct a literature review of existing studies on human-animal interaction.\",\n",
            "    \"Survey cat owners to gather data on their experiences and health outcomes.\",\n",
            "    \"Analyze survey data using statistical methods to identify correlations.\",\n",
            "    \"Compare findings with existing research on other pet ownership models.\"\n",
            "  ],\n",
            "  \"deliverables\": [\n",
            "    \"A comprehensive report summarizing the findings.\",\n",
            "    \"A presentation of key findings for a relevant audience.\",\n",
            "    \"A peer-reviewed publication of the research.\"\n",
            "  ]\n",
            "}\n",
            "\n",
            "Markdown Output:\n",
            "# Impact of Cat Ownership on Human Well-being\n",
            "**Problem:** Limited research exists on the comprehensive effects of cat ownership on human health.  This study will investigate the multifaceted impact of cat companionship on various aspects of human well-being.\n",
            "**Key Questions:**\n",
            "- How does cat ownership affect human mental health?\n",
            "- What is the correlation between cat ownership and cardiovascular health?\n",
            "- Does cat ownership influence social interaction and loneliness?\n",
            "**Method (brief):**\n",
            "- Conduct a literature review of existing studies on human-animal interaction.\n",
            "- Survey cat owners to gather data on their experiences and health outcomes.\n",
            "- Analyze survey data using statistical methods to identify correlations.\n",
            "- Compare findings with existing research on other pet ownership models.\n",
            "**Deliverables:**\n",
            "- A comprehensive report summarizing the findings.\n",
            "- A presentation of key findings for a relevant audience.\n",
            "- A peer-reviewed publication of the research.\n"
          ]
        }
      ]
    }
  ]
}